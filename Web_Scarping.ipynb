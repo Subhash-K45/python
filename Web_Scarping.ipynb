{
  "nbformat": 4,
  "nbformat_minor": 0,
  "metadata": {
    "colab": {
      "provenance": [],
      "authorship_tag": "ABX9TyPv0BtJGoi19xA/6IVq6CaS",
      "include_colab_link": true
    },
    "kernelspec": {
      "name": "python3",
      "display_name": "Python 3"
    },
    "language_info": {
      "name": "python"
    }
  },
  "cells": [
    {
      "cell_type": "markdown",
      "metadata": {
        "id": "view-in-github",
        "colab_type": "text"
      },
      "source": [
        "<a href=\"https://colab.research.google.com/github/Subhash-K45/python/blob/main/Web_Scarping.ipynb\" target=\"_parent\"><img src=\"https://colab.research.google.com/assets/colab-badge.svg\" alt=\"Open In Colab\"/></a>"
      ]
    },
    {
      "cell_type": "code",
      "execution_count": null,
      "metadata": {
        "id": "cFuKwj6YVGvg"
      },
      "outputs": [],
      "source": [
        "import chromedriver_autoinstaller\n",
        "from selenium import webdriver\n",
        "from bs4 import BeautifulSoup\n",
        "import pandas as pd\n",
        "import requests\n",
        "from tqdm import tqdm\n",
        "chromedriver_autoinstaller.install()\n",
        "driver = webdriver.Chrome()\n",
        "\n",
        "def call_url(url):\n",
        "    driver.get(url)\n",
        "\n",
        "def scrap_web(url):\n",
        "    call_url(url)\n",
        "\n",
        "def return_soup():\n",
        "    soup = BeautifulSoup(driver.page_source,'html.parser')\n",
        "    return soup\n",
        "\n",
        "def get_data():\n",
        "    cases_title=[]\n",
        "    cases_desc=[]\n",
        "    acts=[]\n",
        "    judges=[]\n",
        "    call_url('https://www.scconline.com/blog/post/category/casebriefs/supremecourt/')\n",
        "    scrap_web('https://www.scconline.com/blog/post/category/casebriefs/supremecourt/')\n",
        "    original_soup = return_soup()\n",
        "    for title,time in tqdm(zip(original_soup.find_all('h2',class_='entry-title'),original_soup.find_all('time'))):\n",
        "        links = title.find('a').get('href')\n",
        "        call_url(links)\n",
        "        scrap_web(links)\n",
        "        sub_soup = return_soup()\n",
        "        cases_title.append(sub_soup.find('h1',class_='entry-title').text)\n",
        "        for cases in sub_soup.find_all('div',class_='hfeed site wrap'):\n",
        "            for case in cases.find_all('p'):\n",
        "                if (case.text.startswith('[') and case.text.endswith(']')):\n",
        "                    cases_desc.append(case.text)\n",
        "            c=0\n",
        "            try:\n",
        "                for judge in sub_soup.find_all('strong'):\n",
        "                    judges.append(judge.text)\n",
        "                    c=1\n",
        "            except Exception as e:\n",
        "                print('NA')\n",
        "                print(f'An error occurred: {e}')\n",
        "            if c==0:\n",
        "                judges.append('NA')\n",
        "        for div in sub_soup.find_all('div',class_='entry-content'):\n",
        "            for p in div.find_all('p'):\n",
        "                for a in p.find_all('a'):\n",
        "                    if 'Click' in a.text or a.text=='Learn how your comment data is processed' or len(a.text)>28:\n",
        "                        continue\n",
        "                    print(a.text)\n",
        "                    acts.append(a.text)\n",
        "        acts.append('*****')\n",
        "    return cases_title,cases_desc,acts,judges\n",
        "\n",
        "cases_title,cases_desc,acts,judges = get_data()\n",
        "\n",
        "df = pd.DataFrame([cases_title]).T\n",
        "df.rename(columns={0:'case name'})\n",
        "\n",
        "cases_new=[]\n",
        "for x in cases_desc:\n",
        "    for y in (x.split(' ')):\n",
        "        if 'No' in y:\n",
        "            cases_new.append(y)\n",
        "            cases_new.append(x.split(' ')[x.split(' ').index(y)+1])\n",
        "\n",
        "acts_new = []\n",
        "l=[]\n",
        "for act in acts:\n",
        "    if act=='*****' and len(l)>0:\n",
        "        acts_new.append(l)\n",
        "        l=[]\n",
        "    else:\n",
        "        if '*' not in act:\n",
        "            l.append(act)\n",
        "\n",
        "df = pd.DataFrame([['Supreme Court']*20,cases_title,judges,acts_new,cases_new])\n",
        "df.T.rename(columns={0:'Court',1:'Case Names',2:'Judges',3:'Acts',4:'Doc Id'}).to_csv('Assesment.csv',index=False)"
      ]
    }
  ]
}