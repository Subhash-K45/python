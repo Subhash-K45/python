{
 "cells": [
  {
   "cell_type": "code",
   "execution_count": 1,
   "id": "883cdc80",
   "metadata": {},
   "outputs": [],
   "source": [
    "import pandas as pd\n",
    "import numpy as np"
   ]
  },
  {
   "cell_type": "code",
   "execution_count": 120,
   "id": "189bc86e",
   "metadata": {},
   "outputs": [],
   "source": [
    "# generating pair-wise comparision based on user-preference\n",
    "user_data = pd.read_csv('weight1.csv')"
   ]
  },
  {
   "cell_type": "code",
   "execution_count": 121,
   "id": "56e2c198",
   "metadata": {},
   "outputs": [
    {
     "data": {
      "text/html": [
       "<div>\n",
       "<style scoped>\n",
       "    .dataframe tbody tr th:only-of-type {\n",
       "        vertical-align: middle;\n",
       "    }\n",
       "\n",
       "    .dataframe tbody tr th {\n",
       "        vertical-align: top;\n",
       "    }\n",
       "\n",
       "    .dataframe thead th {\n",
       "        text-align: right;\n",
       "    }\n",
       "</style>\n",
       "<table border=\"1\" class=\"dataframe\">\n",
       "  <thead>\n",
       "    <tr style=\"text-align: right;\">\n",
       "      <th></th>\n",
       "      <th>Unnamed: 0</th>\n",
       "      <th>Size</th>\n",
       "      <th>Shape</th>\n",
       "      <th>Texture</th>\n",
       "      <th>Vascular</th>\n",
       "    </tr>\n",
       "  </thead>\n",
       "  <tbody>\n",
       "    <tr>\n",
       "      <th>0</th>\n",
       "      <td>Size</td>\n",
       "      <td>1</td>\n",
       "      <td>6</td>\n",
       "      <td>3</td>\n",
       "      <td>8</td>\n",
       "    </tr>\n",
       "    <tr>\n",
       "      <th>1</th>\n",
       "      <td>Shape</td>\n",
       "      <td>1/6</td>\n",
       "      <td>1</td>\n",
       "      <td>1/2</td>\n",
       "      <td>4</td>\n",
       "    </tr>\n",
       "    <tr>\n",
       "      <th>2</th>\n",
       "      <td>Texture</td>\n",
       "      <td>1/3</td>\n",
       "      <td>2</td>\n",
       "      <td>1</td>\n",
       "      <td>3</td>\n",
       "    </tr>\n",
       "    <tr>\n",
       "      <th>3</th>\n",
       "      <td>Vascular</td>\n",
       "      <td>1/8</td>\n",
       "      <td>1/4</td>\n",
       "      <td>1/3</td>\n",
       "      <td>1</td>\n",
       "    </tr>\n",
       "  </tbody>\n",
       "</table>\n",
       "</div>"
      ],
      "text/plain": [
       "  Unnamed: 0  Size  Shape Texture  Vascular\n",
       "0      Size      1  6           3         8\n",
       "1      Shape   1/6      1     1/2         4\n",
       "2    Texture   1/3      2       1         3\n",
       "3   Vascular   1/8    1/4     1/3         1"
      ]
     },
     "execution_count": 121,
     "metadata": {},
     "output_type": "execute_result"
    }
   ],
   "source": [
    "user_data"
   ]
  },
  {
   "cell_type": "code",
   "execution_count": 122,
   "id": "eba25702",
   "metadata": {},
   "outputs": [],
   "source": [
    "for col in user_data.columns:\n",
    "    user_data.rename(columns = {col:col.strip()},inplace=True)"
   ]
  },
  {
   "cell_type": "code",
   "execution_count": 123,
   "id": "f5b20dc5",
   "metadata": {},
   "outputs": [],
   "source": [
    "user_data.drop(columns=['Unnamed: 0'],inplace=True)"
   ]
  },
  {
   "cell_type": "code",
   "execution_count": 124,
   "id": "7f038686",
   "metadata": {},
   "outputs": [],
   "source": [
    "# calculating the float values\n",
    "def division(x):\n",
    "    try:\n",
    "        if '/' in x:\n",
    "            parts = x.split('/')\n",
    "            return int(parts[0]) / int(parts[1])\n",
    "        else:\n",
    "            return int(x)\n",
    "    except:\n",
    "        return x\n",
    "def float_values(df):\n",
    "    try:\n",
    "        df.drop(columns=['Pair-wise comp'],inplace=True)\n",
    "    except:\n",
    "        df = df\n",
    "    for col in df.columns:\n",
    "        df[col] = df[col].apply(lambda x:round(division(x),2))\n",
    "    return df"
   ]
  },
  {
   "cell_type": "code",
   "execution_count": 125,
   "id": "98b08299",
   "metadata": {},
   "outputs": [],
   "source": [
    "def normalization(df):\n",
    "    for col in df.columns:\n",
    "        sum_ = round(df[col].sum(),2)\n",
    "        df[col] = df[col].apply(lambda x:round(x/sum_,2))\n",
    "    return df"
   ]
  },
  {
   "cell_type": "code",
   "execution_count": 126,
   "id": "1ac16d39",
   "metadata": {},
   "outputs": [],
   "source": [
    "def sum_of_rows(df):\n",
    "    l=[]\n",
    "    for i in range(df.shape[0]):\n",
    "        l.append(round(sum(df.loc[i,:]),2))\n",
    "    return l"
   ]
  },
  {
   "cell_type": "code",
   "execution_count": 127,
   "id": "b928a69c",
   "metadata": {},
   "outputs": [],
   "source": [
    "def criterion_weight(df):\n",
    "    l=[]\n",
    "    for i in range(df.shape[0]):\n",
    "        l.append(round(sum(df.loc[i,:])/df.shape[1],2))\n",
    "    return l"
   ]
  },
  {
   "cell_type": "code",
   "execution_count": 128,
   "id": "0fa00203",
   "metadata": {},
   "outputs": [],
   "source": [
    "def consistency_mat(caldf,l):\n",
    "    for i,col in enumerate(caldf.columns):\n",
    "        caldf[col] = caldf[col].apply(lambda x :l[i]*x)\n",
    "    return caldf"
   ]
  },
  {
   "cell_type": "code",
   "execution_count": 129,
   "id": "8b833e5a",
   "metadata": {},
   "outputs": [],
   "source": [
    "def weighted_mat(df,cw):\n",
    "    l = sum_of_rows(df)\n",
    "    df['Weighted_sum_value'] = pd.Series(l)\n",
    "    df['Criteria_weight'] = pd.Series(cw)\n",
    "    df['result']  = df['Weighted_sum_value']/df['Criteria_weight']\n",
    "    return df"
   ]
  },
  {
   "cell_type": "code",
   "execution_count": 130,
   "id": "29f213cc",
   "metadata": {},
   "outputs": [
    {
     "data": {
      "text/html": [
       "<div>\n",
       "<style scoped>\n",
       "    .dataframe tbody tr th:only-of-type {\n",
       "        vertical-align: middle;\n",
       "    }\n",
       "\n",
       "    .dataframe tbody tr th {\n",
       "        vertical-align: top;\n",
       "    }\n",
       "\n",
       "    .dataframe thead th {\n",
       "        text-align: right;\n",
       "    }\n",
       "</style>\n",
       "<table border=\"1\" class=\"dataframe\">\n",
       "  <thead>\n",
       "    <tr style=\"text-align: right;\">\n",
       "      <th></th>\n",
       "      <th>Size</th>\n",
       "      <th>Shape</th>\n",
       "      <th>Texture</th>\n",
       "      <th>Vascular</th>\n",
       "    </tr>\n",
       "  </thead>\n",
       "  <tbody>\n",
       "    <tr>\n",
       "      <th>0</th>\n",
       "      <td>1.00</td>\n",
       "      <td>6.00</td>\n",
       "      <td>3.00</td>\n",
       "      <td>8</td>\n",
       "    </tr>\n",
       "    <tr>\n",
       "      <th>1</th>\n",
       "      <td>0.17</td>\n",
       "      <td>1.00</td>\n",
       "      <td>0.50</td>\n",
       "      <td>4</td>\n",
       "    </tr>\n",
       "    <tr>\n",
       "      <th>2</th>\n",
       "      <td>0.33</td>\n",
       "      <td>2.00</td>\n",
       "      <td>1.00</td>\n",
       "      <td>3</td>\n",
       "    </tr>\n",
       "    <tr>\n",
       "      <th>3</th>\n",
       "      <td>0.12</td>\n",
       "      <td>0.25</td>\n",
       "      <td>0.33</td>\n",
       "      <td>1</td>\n",
       "    </tr>\n",
       "  </tbody>\n",
       "</table>\n",
       "</div>"
      ],
      "text/plain": [
       "   Size  Shape  Texture  Vascular\n",
       "0  1.00   6.00     3.00         8\n",
       "1  0.17   1.00     0.50         4\n",
       "2  0.33   2.00     1.00         3\n",
       "3  0.12   0.25     0.33         1"
      ]
     },
     "execution_count": 130,
     "metadata": {},
     "output_type": "execute_result"
    }
   ],
   "source": [
    "cal_df = float_values(user_data)\n",
    "cal_df"
   ]
  },
  {
   "cell_type": "code",
   "execution_count": 131,
   "id": "fa1ce60d",
   "metadata": {},
   "outputs": [
    {
     "data": {
      "text/html": [
       "<div>\n",
       "<style scoped>\n",
       "    .dataframe tbody tr th:only-of-type {\n",
       "        vertical-align: middle;\n",
       "    }\n",
       "\n",
       "    .dataframe tbody tr th {\n",
       "        vertical-align: top;\n",
       "    }\n",
       "\n",
       "    .dataframe thead th {\n",
       "        text-align: right;\n",
       "    }\n",
       "</style>\n",
       "<table border=\"1\" class=\"dataframe\">\n",
       "  <thead>\n",
       "    <tr style=\"text-align: right;\">\n",
       "      <th></th>\n",
       "      <th>Size</th>\n",
       "      <th>Shape</th>\n",
       "      <th>Texture</th>\n",
       "      <th>Vascular</th>\n",
       "    </tr>\n",
       "  </thead>\n",
       "  <tbody>\n",
       "    <tr>\n",
       "      <th>0</th>\n",
       "      <td>0.62</td>\n",
       "      <td>0.65</td>\n",
       "      <td>0.62</td>\n",
       "      <td>0.50</td>\n",
       "    </tr>\n",
       "    <tr>\n",
       "      <th>1</th>\n",
       "      <td>0.10</td>\n",
       "      <td>0.11</td>\n",
       "      <td>0.10</td>\n",
       "      <td>0.25</td>\n",
       "    </tr>\n",
       "    <tr>\n",
       "      <th>2</th>\n",
       "      <td>0.20</td>\n",
       "      <td>0.22</td>\n",
       "      <td>0.21</td>\n",
       "      <td>0.19</td>\n",
       "    </tr>\n",
       "    <tr>\n",
       "      <th>3</th>\n",
       "      <td>0.07</td>\n",
       "      <td>0.03</td>\n",
       "      <td>0.07</td>\n",
       "      <td>0.06</td>\n",
       "    </tr>\n",
       "  </tbody>\n",
       "</table>\n",
       "</div>"
      ],
      "text/plain": [
       "   Size  Shape  Texture  Vascular\n",
       "0  0.62   0.65     0.62      0.50\n",
       "1  0.10   0.11     0.10      0.25\n",
       "2  0.20   0.22     0.21      0.19\n",
       "3  0.07   0.03     0.07      0.06"
      ]
     },
     "execution_count": 131,
     "metadata": {},
     "output_type": "execute_result"
    }
   ],
   "source": [
    "cal_df_n = cal_df.copy() \n",
    "norm_df = normalization(cal_df)\n",
    "norm_df"
   ]
  },
  {
   "cell_type": "code",
   "execution_count": 132,
   "id": "01cbeeb7",
   "metadata": {},
   "outputs": [
    {
     "data": {
      "text/html": [
       "<div>\n",
       "<style scoped>\n",
       "    .dataframe tbody tr th:only-of-type {\n",
       "        vertical-align: middle;\n",
       "    }\n",
       "\n",
       "    .dataframe tbody tr th {\n",
       "        vertical-align: top;\n",
       "    }\n",
       "\n",
       "    .dataframe thead th {\n",
       "        text-align: right;\n",
       "    }\n",
       "</style>\n",
       "<table border=\"1\" class=\"dataframe\">\n",
       "  <thead>\n",
       "    <tr style=\"text-align: right;\">\n",
       "      <th></th>\n",
       "      <th>Size</th>\n",
       "      <th>Shape</th>\n",
       "      <th>Texture</th>\n",
       "      <th>Vascular</th>\n",
       "    </tr>\n",
       "  </thead>\n",
       "  <tbody>\n",
       "    <tr>\n",
       "      <th>0</th>\n",
       "      <td>1.00</td>\n",
       "      <td>6.00</td>\n",
       "      <td>3.00</td>\n",
       "      <td>8</td>\n",
       "    </tr>\n",
       "    <tr>\n",
       "      <th>1</th>\n",
       "      <td>0.17</td>\n",
       "      <td>1.00</td>\n",
       "      <td>0.50</td>\n",
       "      <td>4</td>\n",
       "    </tr>\n",
       "    <tr>\n",
       "      <th>2</th>\n",
       "      <td>0.33</td>\n",
       "      <td>2.00</td>\n",
       "      <td>1.00</td>\n",
       "      <td>3</td>\n",
       "    </tr>\n",
       "    <tr>\n",
       "      <th>3</th>\n",
       "      <td>0.12</td>\n",
       "      <td>0.25</td>\n",
       "      <td>0.33</td>\n",
       "      <td>1</td>\n",
       "    </tr>\n",
       "  </tbody>\n",
       "</table>\n",
       "</div>"
      ],
      "text/plain": [
       "   Size  Shape  Texture  Vascular\n",
       "0  1.00   6.00     3.00         8\n",
       "1  0.17   1.00     0.50         4\n",
       "2  0.33   2.00     1.00         3\n",
       "3  0.12   0.25     0.33         1"
      ]
     },
     "execution_count": 132,
     "metadata": {},
     "output_type": "execute_result"
    }
   ],
   "source": [
    "cal_df_n"
   ]
  },
  {
   "cell_type": "code",
   "execution_count": 133,
   "id": "685ba623",
   "metadata": {},
   "outputs": [
    {
     "data": {
      "text/plain": [
       "[0.6, 0.14, 0.21, 0.06]"
      ]
     },
     "execution_count": 133,
     "metadata": {},
     "output_type": "execute_result"
    }
   ],
   "source": [
    "cw = criterion_weight(norm_df)\n",
    "cw"
   ]
  },
  {
   "cell_type": "code",
   "execution_count": 134,
   "id": "1a67d78a",
   "metadata": {},
   "outputs": [
    {
     "data": {
      "text/html": [
       "<div>\n",
       "<style scoped>\n",
       "    .dataframe tbody tr th:only-of-type {\n",
       "        vertical-align: middle;\n",
       "    }\n",
       "\n",
       "    .dataframe tbody tr th {\n",
       "        vertical-align: top;\n",
       "    }\n",
       "\n",
       "    .dataframe thead th {\n",
       "        text-align: right;\n",
       "    }\n",
       "</style>\n",
       "<table border=\"1\" class=\"dataframe\">\n",
       "  <thead>\n",
       "    <tr style=\"text-align: right;\">\n",
       "      <th></th>\n",
       "      <th>Size</th>\n",
       "      <th>Shape</th>\n",
       "      <th>Texture</th>\n",
       "      <th>Vascular</th>\n",
       "    </tr>\n",
       "  </thead>\n",
       "  <tbody>\n",
       "    <tr>\n",
       "      <th>0</th>\n",
       "      <td>0.600</td>\n",
       "      <td>0.840</td>\n",
       "      <td>0.6300</td>\n",
       "      <td>0.48</td>\n",
       "    </tr>\n",
       "    <tr>\n",
       "      <th>1</th>\n",
       "      <td>0.102</td>\n",
       "      <td>0.140</td>\n",
       "      <td>0.1050</td>\n",
       "      <td>0.24</td>\n",
       "    </tr>\n",
       "    <tr>\n",
       "      <th>2</th>\n",
       "      <td>0.198</td>\n",
       "      <td>0.280</td>\n",
       "      <td>0.2100</td>\n",
       "      <td>0.18</td>\n",
       "    </tr>\n",
       "    <tr>\n",
       "      <th>3</th>\n",
       "      <td>0.072</td>\n",
       "      <td>0.035</td>\n",
       "      <td>0.0693</td>\n",
       "      <td>0.06</td>\n",
       "    </tr>\n",
       "  </tbody>\n",
       "</table>\n",
       "</div>"
      ],
      "text/plain": [
       "    Size  Shape  Texture  Vascular\n",
       "0  0.600  0.840   0.6300      0.48\n",
       "1  0.102  0.140   0.1050      0.24\n",
       "2  0.198  0.280   0.2100      0.18\n",
       "3  0.072  0.035   0.0693      0.06"
      ]
     },
     "execution_count": 134,
     "metadata": {},
     "output_type": "execute_result"
    }
   ],
   "source": [
    "consistency_df = consistency_mat(cal_df_n,cw)\n",
    "consistency_df"
   ]
  },
  {
   "cell_type": "code",
   "execution_count": 135,
   "id": "38153971",
   "metadata": {},
   "outputs": [
    {
     "data": {
      "text/html": [
       "<div>\n",
       "<style scoped>\n",
       "    .dataframe tbody tr th:only-of-type {\n",
       "        vertical-align: middle;\n",
       "    }\n",
       "\n",
       "    .dataframe tbody tr th {\n",
       "        vertical-align: top;\n",
       "    }\n",
       "\n",
       "    .dataframe thead th {\n",
       "        text-align: right;\n",
       "    }\n",
       "</style>\n",
       "<table border=\"1\" class=\"dataframe\">\n",
       "  <thead>\n",
       "    <tr style=\"text-align: right;\">\n",
       "      <th></th>\n",
       "      <th>Size</th>\n",
       "      <th>Shape</th>\n",
       "      <th>Texture</th>\n",
       "      <th>Vascular</th>\n",
       "      <th>Weighted_sum_value</th>\n",
       "      <th>Criteria_weight</th>\n",
       "      <th>result</th>\n",
       "    </tr>\n",
       "  </thead>\n",
       "  <tbody>\n",
       "    <tr>\n",
       "      <th>0</th>\n",
       "      <td>0.600</td>\n",
       "      <td>0.840</td>\n",
       "      <td>0.6300</td>\n",
       "      <td>0.48</td>\n",
       "      <td>2.55</td>\n",
       "      <td>0.60</td>\n",
       "      <td>4.250000</td>\n",
       "    </tr>\n",
       "    <tr>\n",
       "      <th>1</th>\n",
       "      <td>0.102</td>\n",
       "      <td>0.140</td>\n",
       "      <td>0.1050</td>\n",
       "      <td>0.24</td>\n",
       "      <td>0.59</td>\n",
       "      <td>0.14</td>\n",
       "      <td>4.214286</td>\n",
       "    </tr>\n",
       "    <tr>\n",
       "      <th>2</th>\n",
       "      <td>0.198</td>\n",
       "      <td>0.280</td>\n",
       "      <td>0.2100</td>\n",
       "      <td>0.18</td>\n",
       "      <td>0.87</td>\n",
       "      <td>0.21</td>\n",
       "      <td>4.142857</td>\n",
       "    </tr>\n",
       "    <tr>\n",
       "      <th>3</th>\n",
       "      <td>0.072</td>\n",
       "      <td>0.035</td>\n",
       "      <td>0.0693</td>\n",
       "      <td>0.06</td>\n",
       "      <td>0.24</td>\n",
       "      <td>0.06</td>\n",
       "      <td>4.000000</td>\n",
       "    </tr>\n",
       "  </tbody>\n",
       "</table>\n",
       "</div>"
      ],
      "text/plain": [
       "    Size  Shape  Texture  Vascular  Weighted_sum_value  Criteria_weight  \\\n",
       "0  0.600  0.840   0.6300      0.48                2.55             0.60   \n",
       "1  0.102  0.140   0.1050      0.24                0.59             0.14   \n",
       "2  0.198  0.280   0.2100      0.18                0.87             0.21   \n",
       "3  0.072  0.035   0.0693      0.06                0.24             0.06   \n",
       "\n",
       "     result  \n",
       "0  4.250000  \n",
       "1  4.214286  \n",
       "2  4.142857  \n",
       "3  4.000000  "
      ]
     },
     "execution_count": 135,
     "metadata": {},
     "output_type": "execute_result"
    }
   ],
   "source": [
    "result_df = weighted_mat(consistency_df,cw)\n",
    "result_df"
   ]
  },
  {
   "cell_type": "code",
   "execution_count": 136,
   "id": "c67466b8",
   "metadata": {},
   "outputs": [
    {
     "data": {
      "text/plain": [
       "4"
      ]
     },
     "execution_count": 136,
     "metadata": {},
     "output_type": "execute_result"
    }
   ],
   "source": [
    "cal_df.shape[1]"
   ]
  },
  {
   "cell_type": "code",
   "execution_count": 137,
   "id": "87b3ab8b",
   "metadata": {},
   "outputs": [],
   "source": [
    "n=cal_df.shape[1]\n",
    "lam_max = np.array(result_df['result']).mean()\n",
    "consistency_index = (lam_max - n)/(n-1)"
   ]
  },
  {
   "cell_type": "code",
   "execution_count": 138,
   "id": "f15cd254",
   "metadata": {},
   "outputs": [
    {
     "data": {
      "text/plain": [
       "4.151785714285714"
      ]
     },
     "execution_count": 138,
     "metadata": {},
     "output_type": "execute_result"
    }
   ],
   "source": [
    "lam_max"
   ]
  },
  {
   "cell_type": "code",
   "execution_count": 139,
   "id": "8f08c784",
   "metadata": {},
   "outputs": [
    {
     "data": {
      "text/plain": [
       "0.05059523809523814"
      ]
     },
     "execution_count": 139,
     "metadata": {},
     "output_type": "execute_result"
    }
   ],
   "source": [
    "(lam_max - n)/3"
   ]
  },
  {
   "cell_type": "code",
   "execution_count": 140,
   "id": "cfcfa269",
   "metadata": {},
   "outputs": [
    {
     "data": {
      "text/plain": [
       "4.151785714285714"
      ]
     },
     "execution_count": 140,
     "metadata": {},
     "output_type": "execute_result"
    }
   ],
   "source": [
    "lam_max"
   ]
  },
  {
   "cell_type": "code",
   "execution_count": 141,
   "id": "052de7ec",
   "metadata": {},
   "outputs": [
    {
     "data": {
      "text/plain": [
       "0.05059523809523814"
      ]
     },
     "execution_count": 141,
     "metadata": {},
     "output_type": "execute_result"
    }
   ],
   "source": [
    "consistency_index"
   ]
  },
  {
   "cell_type": "code",
   "execution_count": 142,
   "id": "793a8b76",
   "metadata": {},
   "outputs": [],
   "source": [
    "consistent_Ratio = consistency_index/0.90"
   ]
  },
  {
   "cell_type": "code",
   "execution_count": 143,
   "id": "ffb0027b",
   "metadata": {},
   "outputs": [
    {
     "data": {
      "text/plain": [
       "0.06"
      ]
     },
     "execution_count": 143,
     "metadata": {},
     "output_type": "execute_result"
    }
   ],
   "source": [
    "round(consistent_Ratio,2)"
   ]
  },
  {
   "cell_type": "code",
   "execution_count": null,
   "id": "f41ea509",
   "metadata": {},
   "outputs": [],
   "source": []
  }
 ],
 "metadata": {
  "kernelspec": {
   "display_name": "Python 3 (ipykernel)",
   "language": "python",
   "name": "python3"
  },
  "language_info": {
   "codemirror_mode": {
    "name": "ipython",
    "version": 3
   },
   "file_extension": ".py",
   "mimetype": "text/x-python",
   "name": "python",
   "nbconvert_exporter": "python",
   "pygments_lexer": "ipython3",
   "version": "3.10.9"
  }
 },
 "nbformat": 4,
 "nbformat_minor": 5
}
