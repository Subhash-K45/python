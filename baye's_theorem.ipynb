{
 "cells": [
  {
   "cell_type": "code",
   "execution_count": 1,
   "id": "d7e93ac1",
   "metadata": {},
   "outputs": [],
   "source": [
    "import pandas as pd"
   ]
  },
  {
   "cell_type": "code",
   "execution_count": 2,
   "id": "462d7e5a",
   "metadata": {},
   "outputs": [],
   "source": [
    "df =pd.read_csv(\"play_tennis.csv\")\n",
    "df=df.iloc[:,1:]"
   ]
  },
  {
   "cell_type": "code",
   "execution_count": 3,
   "id": "4e7af6a8",
   "metadata": {},
   "outputs": [
    {
     "data": {
      "text/plain": [
       "array(['No', 'Yes'], dtype=object)"
      ]
     },
     "execution_count": 3,
     "metadata": {},
     "output_type": "execute_result"
    }
   ],
   "source": [
    "dr=df.values\n",
    "ss=[]\n",
    "for y in df.columns:\n",
    "    for x in df[y].unique():\n",
    "        ss.append(df[df[y]==x][y].reset_index(drop=True))\n",
    "target=df['play']\n",
    "target.unique()"
   ]
  },
  {
   "cell_type": "code",
   "execution_count": 23,
   "id": "b901ea8b",
   "metadata": {},
   "outputs": [
    {
     "data": {
      "text/plain": [
       "[[[0    Sunny\n",
       "   1    Sunny\n",
       "   7    Sunny\n",
       "   Name: outlook, dtype: object,\n",
       "   'No'],\n",
       "  [8     Sunny\n",
       "   10    Sunny\n",
       "   Name: outlook, dtype: object,\n",
       "   'Yes']],\n",
       " [[Series([], Name: outlook, dtype: object), 'No'],\n",
       "  [2     Overcast\n",
       "   6     Overcast\n",
       "   11    Overcast\n",
       "   12    Overcast\n",
       "   Name: outlook, dtype: object,\n",
       "   'Yes']],\n",
       " [[5     Rain\n",
       "   13    Rain\n",
       "   Name: outlook, dtype: object,\n",
       "   'No'],\n",
       "  [3    Rain\n",
       "   4    Rain\n",
       "   9    Rain\n",
       "   Name: outlook, dtype: object,\n",
       "   'Yes']],\n",
       " [[0    Hot\n",
       "   1    Hot\n",
       "   Name: temp, dtype: object,\n",
       "   'No'],\n",
       "  [2     Hot\n",
       "   12    Hot\n",
       "   Name: temp, dtype: object,\n",
       "   'Yes']],\n",
       " [[7     Mild\n",
       "   13    Mild\n",
       "   Name: temp, dtype: object,\n",
       "   'No'],\n",
       "  [3     Mild\n",
       "   9     Mild\n",
       "   10    Mild\n",
       "   11    Mild\n",
       "   Name: temp, dtype: object,\n",
       "   'Yes']],\n",
       " [[5    Cool\n",
       "   Name: temp, dtype: object,\n",
       "   'No'],\n",
       "  [4    Cool\n",
       "   6    Cool\n",
       "   8    Cool\n",
       "   Name: temp, dtype: object,\n",
       "   'Yes']],\n",
       " [[0     High\n",
       "   1     High\n",
       "   7     High\n",
       "   13    High\n",
       "   Name: humidity, dtype: object,\n",
       "   'No'],\n",
       "  [2     High\n",
       "   3     High\n",
       "   11    High\n",
       "   Name: humidity, dtype: object,\n",
       "   'Yes']],\n",
       " [[5    Normal\n",
       "   Name: humidity, dtype: object,\n",
       "   'No'],\n",
       "  [4     Normal\n",
       "   6     Normal\n",
       "   8     Normal\n",
       "   9     Normal\n",
       "   10    Normal\n",
       "   12    Normal\n",
       "   Name: humidity, dtype: object,\n",
       "   'Yes']],\n",
       " [[0    Weak\n",
       "   7    Weak\n",
       "   Name: wind, dtype: object,\n",
       "   'No'],\n",
       "  [2     Weak\n",
       "   3     Weak\n",
       "   4     Weak\n",
       "   8     Weak\n",
       "   9     Weak\n",
       "   12    Weak\n",
       "   Name: wind, dtype: object,\n",
       "   'Yes']],\n",
       " [[1     Strong\n",
       "   5     Strong\n",
       "   13    Strong\n",
       "   Name: wind, dtype: object,\n",
       "   'No'],\n",
       "  [6     Strong\n",
       "   10    Strong\n",
       "   11    Strong\n",
       "   Name: wind, dtype: object,\n",
       "   'Yes']]]"
      ]
     },
     "execution_count": 23,
     "metadata": {},
     "output_type": "execute_result"
    }
   ],
   "source": [
    "result=[]\n",
    "bayes=[]\n",
    "for y in df.columns[:-1]:\n",
    "    for x in df[y].unique():\n",
    "        for z in target.unique():\n",
    "            result.append([df[(df['play']==z)&(df[y]==x)][y],z])\n",
    "        bayes.append(result)\n",
    "        result=[]\n",
    "bayes"
   ]
  },
  {
   "cell_type": "code",
   "execution_count": 22,
   "id": "0e5b1774",
   "metadata": {},
   "outputs": [
    {
     "name": "stdout",
     "output_type": "stream",
     "text": [
      "[[0    Sunny\n",
      "1    Sunny\n",
      "7    Sunny\n",
      "Name: outlook, dtype: object, 'No'], [8     Sunny\n",
      "10    Sunny\n",
      "Name: outlook, dtype: object, 'Yes']]\n",
      "[[Series([], Name: outlook, dtype: object), 'No'], [2     Overcast\n",
      "6     Overcast\n",
      "11    Overcast\n",
      "12    Overcast\n",
      "Name: outlook, dtype: object, 'Yes']]\n",
      "[[5     Rain\n",
      "13    Rain\n",
      "Name: outlook, dtype: object, 'No'], [3    Rain\n",
      "4    Rain\n",
      "9    Rain\n",
      "Name: outlook, dtype: object, 'Yes']]\n",
      "[[0    Hot\n",
      "1    Hot\n",
      "Name: temp, dtype: object, 'No'], [2     Hot\n",
      "12    Hot\n",
      "Name: temp, dtype: object, 'Yes']]\n",
      "[[7     Mild\n",
      "13    Mild\n",
      "Name: temp, dtype: object, 'No'], [3     Mild\n",
      "9     Mild\n",
      "10    Mild\n",
      "11    Mild\n",
      "Name: temp, dtype: object, 'Yes']]\n",
      "[[5    Cool\n",
      "Name: temp, dtype: object, 'No'], [4    Cool\n",
      "6    Cool\n",
      "8    Cool\n",
      "Name: temp, dtype: object, 'Yes']]\n",
      "[[0     High\n",
      "1     High\n",
      "7     High\n",
      "13    High\n",
      "Name: humidity, dtype: object, 'No'], [2     High\n",
      "3     High\n",
      "11    High\n",
      "Name: humidity, dtype: object, 'Yes']]\n",
      "[[5    Normal\n",
      "Name: humidity, dtype: object, 'No'], [4     Normal\n",
      "6     Normal\n",
      "8     Normal\n",
      "9     Normal\n",
      "10    Normal\n",
      "12    Normal\n",
      "Name: humidity, dtype: object, 'Yes']]\n",
      "[[0    Weak\n",
      "7    Weak\n",
      "Name: wind, dtype: object, 'No'], [2     Weak\n",
      "3     Weak\n",
      "4     Weak\n",
      "8     Weak\n",
      "9     Weak\n",
      "12    Weak\n",
      "Name: wind, dtype: object, 'Yes']]\n",
      "[[1     Strong\n",
      "5     Strong\n",
      "13    Strong\n",
      "Name: wind, dtype: object, 'No'], [6     Strong\n",
      "10    Strong\n",
      "11    Strong\n",
      "Name: wind, dtype: object, 'Yes']]\n"
     ]
    },
    {
     "data": {
      "text/plain": [
       "[[3, 2],\n",
       " [0, 4],\n",
       " [2, 3],\n",
       " [2, 2],\n",
       " [2, 4],\n",
       " [1, 3],\n",
       " [4, 3],\n",
       " [1, 6],\n",
       " [2, 6],\n",
       " [3, 3]]"
      ]
     },
     "execution_count": 22,
     "metadata": {},
     "output_type": "execute_result"
    }
   ],
   "source": [
    "probability=[]\n",
    "samples=[]\n",
    "len(bayes[1][0][0])\n",
    "k=len(bayes[0][0][0])\n",
    "m=len(ss[0])\n",
    "k/m\n",
    "for i in bayes:\n",
    "    for j in i:\n",
    "        samples.append(len(j[0]))\n",
    "    probability.append(samples)\n",
    "    samples=[]"
   ]
  },
  {
   "cell_type": "code",
   "execution_count": 52,
   "id": "62958780",
   "metadata": {},
   "outputs": [],
   "source": [
    "sample_space=ss[:-2]\n",
    "a=[]\n",
    "result=[]\n",
    "for i in range(0,len(sample_space)):\n",
    "    length=(len(sample_space[i]))\n",
    "    for j in (probability[i]):\n",
    "        a.append((j/length))\n",
    "    result.append(a)\n",
    "    a=[]"
   ]
  },
  {
   "cell_type": "code",
   "execution_count": 7,
   "id": "18f0468d",
   "metadata": {},
   "outputs": [
    {
     "data": {
      "text/plain": [
       "(['Sunny',\n",
       "  'Overcast',\n",
       "  'Rain',\n",
       "  'Hot',\n",
       "  'Mild',\n",
       "  'Cool',\n",
       "  'High',\n",
       "  'Normal',\n",
       "  'Weak',\n",
       "  'Strong'],\n",
       " [[0.6, 0.4],\n",
       "  [0.0, 1.0],\n",
       "  [0.4, 0.6],\n",
       "  [0.5, 0.5],\n",
       "  [0.3333333333333333, 0.6666666666666666],\n",
       "  [0.25, 0.75],\n",
       "  [0.5714285714285714, 0.42857142857142855],\n",
       "  [0.14285714285714285, 0.8571428571428571],\n",
       "  [0.25, 0.75],\n",
       "  [0.5, 0.5]],\n",
       " [0.35714285714285715, 0.6428571428571429])"
      ]
     },
     "execution_count": 7,
     "metadata": {},
     "output_type": "execute_result"
    }
   ],
   "source": [
    "params =[]\n",
    "for i in df.columns[:-1]:\n",
    "    for j in (df[i].unique()):\n",
    "        params.append(j)\n",
    "target_samples_space=len(ss[-2:][0])+len(ss[-2:][1])\n",
    "target_samples=[len(ss[-2:][0])/target_samples_space,len(ss[-2:][1])/target_samples_space]\n",
    "params,result,target_samples"
   ]
  },
  {
   "cell_type": "code",
   "execution_count": 40,
   "id": "fefdc40d",
   "metadata": {},
   "outputs": [],
   "source": []
  },
  {
   "cell_type": "code",
   "execution_count": 71,
   "id": "440daf1e",
   "metadata": {},
   "outputs": [
    {
     "name": "stdout",
     "output_type": "stream",
     "text": [
      "please select type in outlook\n",
      "['Sunny' 'Overcast' 'Rain']\n",
      "Select one category by typing its index; for eg the index of Sunny is 0\n",
      "1\n",
      "please select type in temp\n",
      "['Hot' 'Mild' 'Cool']\n",
      "Select one category by typing its index; for eg the index of Hot is 0\n",
      "1\n",
      "please select type in humidity\n",
      "['High' 'Normal']\n",
      "Select one category by typing its index; for eg the index of High is 0\n",
      "1\n",
      "please select type in wind\n",
      "['Weak' 'Strong']\n",
      "Select one category by typing its index; for eg the index of Weak is 0\n",
      "0\n"
     ]
    }
   ],
   "source": [
    "choose = []\n",
    "for i in df.columns[:-1]:\n",
    "    print(f'please select type in {i}')\n",
    "    print((df[i].unique()))\n",
    "    print(f\"Select one category by typing its index; for eg the index of {df[i][0]} is 0\")\n",
    "    user_input=int(input())\n",
    "    if(user_input<0 or user_input>len(df[i].unique())-1):\n",
    "        print('Choose correct option, invoke again')\n",
    "        break;\n",
    "    else:\n",
    "        choose.append(user_input)\n"
   ]
  },
  {
   "cell_type": "code",
   "execution_count": 72,
   "id": "fd733369",
   "metadata": {},
   "outputs": [
    {
     "data": {
      "text/plain": [
       "[1, 4, 7, 8]"
      ]
     },
     "execution_count": 72,
     "metadata": {},
     "output_type": "execute_result"
    }
   ],
   "source": [
    "sum_ = 0\n",
    "j=0\n",
    "for i in df[df.columns[:-1]]:\n",
    "    choose[j]=choose[j]+sum_;\n",
    "    sum_+=(len(df[i].unique()))\n",
    "    j+=1\n",
    "choose"
   ]
  },
  {
   "cell_type": "code",
   "execution_count": 77,
   "id": "d04ca3e4",
   "metadata": {},
   "outputs": [],
   "source": [
    "def bayes_theorem(params,result,target_samples,predictions):\n",
    "    if(len(predictions)!=4):\n",
    "        return False\n",
    "    print(target_samples)\n",
    "    no_result =result[predictions[0]][0]*result[predictions[1]][0]*result[predictions[2]][0]*result[predictions[3]][0]*target_samples[0] \n",
    "    yes_result  =result[predictions[0]][1]*result[predictions[1]][1]*result[predictions[2]][1]*result[predictions[3]][1]*target_samples[1]\n",
    "    print(yes_result,no_result)"
   ]
  },
  {
   "cell_type": "code",
   "execution_count": 79,
   "id": "09adb0c5",
   "metadata": {},
   "outputs": [
    {
     "name": "stdout",
     "output_type": "stream",
     "text": [
      "[0.35714285714285715, 0.6428571428571429]\n",
      "0.2755102040816327 0.0\n"
     ]
    }
   ],
   "source": [
    "bayes_theorem(params,result,target_samples,choose)"
   ]
  },
  {
   "cell_type": "code",
   "execution_count": null,
   "id": "836dce8f",
   "metadata": {},
   "outputs": [],
   "source": []
  }
 ],
 "metadata": {
  "kernelspec": {
   "display_name": "Python 3 (ipykernel)",
   "language": "python",
   "name": "python3"
  },
  "language_info": {
   "codemirror_mode": {
    "name": "ipython",
    "version": 3
   },
   "file_extension": ".py",
   "mimetype": "text/x-python",
   "name": "python",
   "nbconvert_exporter": "python",
   "pygments_lexer": "ipython3",
   "version": "3.10.9"
  }
 },
 "nbformat": 4,
 "nbformat_minor": 5
}
