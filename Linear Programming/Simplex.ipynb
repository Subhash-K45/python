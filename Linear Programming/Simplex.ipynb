{
  "nbformat": 4,
  "nbformat_minor": 0,
  "metadata": {
    "colab": {
      "provenance": [],
      "authorship_tag": "ABX9TyODhlrmAzhIggu6YSl1QbkC",
      "include_colab_link": true
    },
    "kernelspec": {
      "name": "python3",
      "display_name": "Python 3"
    },
    "language_info": {
      "name": "python"
    }
  },
  "cells": [
    {
      "cell_type": "markdown",
      "metadata": {
        "id": "view-in-github",
        "colab_type": "text"
      },
      "source": [
        "<a href=\"https://colab.research.google.com/github/Subhash-K45/python/blob/main/Linear%20Programming/Simplex.ipynb\" target=\"_parent\"><img src=\"https://colab.research.google.com/assets/colab-badge.svg\" alt=\"Open In Colab\"/></a>"
      ]
    },
    {
      "cell_type": "code",
      "execution_count": 6,
      "metadata": {
        "colab": {
          "base_uri": "https://localhost:8080/"
        },
        "id": "FspG0l1pP1v-",
        "outputId": "5bb1f53e-139b-4121-caa5-4912480fc95c"
      },
      "outputs": [
        {
          "output_type": "stream",
          "name": "stdout",
          "text": [
            "The matrix reads:\n",
            "x1 = 4\n",
            "x2 = 8\n",
            "z = 400\n"
          ]
        },
        {
          "output_type": "stream",
          "name": "stderr",
          "text": [
            "<ipython-input-6-9dd00968d018>:16: DeprecationWarning: `method='simplex'` is deprecated and will be removed in SciPy 1.11.0. Please use one of the HiGHS solvers (e.g. `method='highs'`) in new code.\n",
            "  res = linprog(c, A_ub=A, b_ub=b, bounds=[x0_bounds, x1_bounds], method='simplex')\n"
          ]
        }
      ],
      "source": [
        "import numpy as np\n",
        "from scipy.optimize import linprog\n",
        "\n",
        "# Objective function coefficients (maximization problem)\n",
        "c = [-40, -30]\n",
        "\n",
        "# Coefficients for the inequality constraints (Ax <= b)\n",
        "A = np.array([[1, 1], [2, 1]])\n",
        "b = np.array([12, 16])  # Corrected the order of constraints\n",
        "\n",
        "# Bounds for variables\n",
        "x0_bounds = (0, None)  # x1 >= 0\n",
        "x1_bounds = (0, None)  # x2 >= 0\n",
        "\n",
        "# Solve the linear programming problem\n",
        "res = linprog(c, A_ub=A, b_ub=b, bounds=[x0_bounds, x1_bounds], method='simplex')\n",
        "\n",
        "# Extract the results\n",
        "x1, x2 = res.x\n",
        "z = -res.fun  # The 'fun' attribute returns the negative of the objective value\n",
        "\n",
        "# Print the results\n",
        "print(\"The matrix reads:\")\n",
        "print(f\"x1 = {x1:.0f}\")\n",
        "print(f\"x2 = {x2:.0f}\")\n",
        "print(f\"z = {z:.0f}\")\n"
      ]
    },
    {
      "cell_type": "code",
      "source": [
        "import numpy as np\n",
        "\n",
        "# Define the initial tableau (you need to convert the problem to standard form)\n",
        "tableau = np.array([\n",
        "    [1.0, 1.0, 1.0, 0.0, 12.0],\n",
        "    [2.0, 1.0, 0.0, 1.0, 16.0],\n",
        "    [40.0, 30.0, 0.0, 0.0, 0.0]\n",
        "], dtype=float)\n",
        "\n",
        "iteration = 0\n",
        "\n",
        "while True:\n",
        "    print(f\"Iteration {iteration}:\")\n",
        "    print(\"Tableau:\")\n",
        "    print(tableau)\n",
        "\n",
        "    # Check if the tableau is optimal\n",
        "    if np.all(tableau[-1, :-1] <= 0):\n",
        "        break\n",
        "\n",
        "    # Select the entering variable (pivot column)\n",
        "    pivot_col = np.where(tableau[-1, :-1] > 0)[0][0]\n",
        "\n",
        "    # Compute the ratios for the leaving variable (pivot row)\n",
        "    ratios = tableau[:-1, -1] / tableau[:-1, pivot_col]\n",
        "\n",
        "    # Check for infeasibility\n",
        "    if np.all(ratios <= 0):\n",
        "        print(\"The problem is infeasible.\")\n",
        "        break\n",
        "\n",
        "    pivot_row = np.argmin(ratios)\n",
        "\n",
        "    # Pivot the tableau\n",
        "    pivot_element = tableau[pivot_row, pivot_col]\n",
        "    tableau[pivot_row, :] /= pivot_element\n",
        "\n",
        "    for i in range(tableau.shape[0]):\n",
        "        if i != pivot_row:\n",
        "            multiplier = tableau[i, pivot_col]\n",
        "            tableau[i, :] -= multiplier * tableau[pivot_row, :]\n",
        "\n",
        "    iteration += 1\n",
        "\n",
        "print(\"Final tableau:\")\n",
        "print(tableau)\n",
        "\n",
        "# Extract the results\n",
        "x1 = tableau[0, -1]\n",
        "x2 = tableau[1, -1]\n",
        "z = -tableau[-1, -1]\n",
        "\n",
        "print(\"Final results:\")\n",
        "print(f\"x1 = {x1:.4f}\")\n",
        "print(f\"x2 = {x2:.4f}\")\n",
        "print(f\"z = {z:.4f}\")\n"
      ],
      "metadata": {
        "colab": {
          "base_uri": "https://localhost:8080/"
        },
        "id": "a-xPTdLuT7on",
        "outputId": "a9de42e5-e37f-4b68-cd58-0b284723f651"
      },
      "execution_count": 38,
      "outputs": [
        {
          "output_type": "stream",
          "name": "stdout",
          "text": [
            "Iteration 0:\n",
            "Tableau:\n",
            "[[ 1.  1.  1.  0. 12.]\n",
            " [ 2.  1.  0.  1. 16.]\n",
            " [40. 30.  0.  0.  0.]]\n",
            "Iteration 1:\n",
            "Tableau:\n",
            "[[   0.     0.5    1.    -0.5    4. ]\n",
            " [   1.     0.5    0.     0.5    8. ]\n",
            " [   0.    10.     0.   -20.  -320. ]]\n",
            "Iteration 2:\n",
            "Tableau:\n",
            "[[   0.    1.    2.   -1.    8.]\n",
            " [   1.    0.   -1.    1.    4.]\n",
            " [   0.    0.  -20.  -10. -400.]]\n",
            "Final tableau:\n",
            "[[   0.    1.    2.   -1.    8.]\n",
            " [   1.    0.   -1.    1.    4.]\n",
            " [   0.    0.  -20.  -10. -400.]]\n",
            "Final results:\n",
            "x1 = 8.0000\n",
            "x2 = 4.0000\n",
            "z = 400.0000\n"
          ]
        }
      ]
    },
    {
      "cell_type": "code",
      "source": [
        "import numpy as np\n",
        "\n",
        "# Define the initial tableau (you need to convert the problem to standard form)\n",
        "tableau = np.array([\n",
        "    [1.0, 1.0, 1.0, 0.0, 12.0],\n",
        "    [2.0, 1.0, 0.0, 1.0, 16.0],\n",
        "    [40.0, 30.0, 0.0, 0.0, 0.0]\n",
        "], dtype=float)\n",
        "\n",
        "iteration = 0\n",
        "\n",
        "while True:\n",
        "    print(f\"Iteration {iteration}:\")\n",
        "    print(\"Tableau:\")\n",
        "\n",
        "    # Print the column labels\n",
        "    print(\"   \", end=\"\")\n",
        "    for col in range(tableau.shape[1] - 1):\n",
        "        print(f\"x{col + 1}  \", end=\"\")\n",
        "    print(\"xb\")\n",
        "\n",
        "    # Print the tableau\n",
        "    for row in range(tableau.shape[0]):\n",
        "        print(f\"x{row + 1} \", end=\"\")\n",
        "        for col in range(tableau.shape[1]):\n",
        "            print(f\"{tableau[row, col]:.2f} \", end=\"\")\n",
        "        print()\n",
        "\n",
        "    # Check if the tableau is optimal\n",
        "    if np.all(tableau[-1, :-1] <= 0):\n",
        "        break\n",
        "\n",
        "    # Select the entering variable (pivot column)\n",
        "    pivot_col = np.where(tableau[-1, :-1] > 0)[0][0]\n",
        "\n",
        "    # Compute the ratios for the leaving variable (pivot row)\n",
        "    ratios = tableau[:-1, -1] / tableau[:-1, pivot_col]\n",
        "\n",
        "    # Check for infeasibility\n",
        "    if np.all(ratios <= 0):\n",
        "        print(\"The problem is infeasible.\")\n",
        "        break\n",
        "\n",
        "    pivot_row = np.argmin(ratios)\n",
        "\n",
        "    # Pivot the tableau\n",
        "    pivot_element = tableau[pivot_row, pivot_col]\n",
        "    tableau[pivot_row, :] /= pivot_element\n",
        "\n",
        "    for i in range(tableau.shape[0]):\n",
        "        if i != pivot_row:\n",
        "            multiplier = tableau[i, pivot_col]\n",
        "            tableau[i, :] -= multiplier * tableau[pivot_row, :]\n",
        "\n",
        "    iteration += 1\n",
        "\n",
        "print(\"Final tableau:\")\n",
        "print(\"   \", end=\"\")\n",
        "for col in range(tableau.shape[1] - 1):\n",
        "    print(f\"x{col + 1}  \", end=\"\")\n",
        "print(\"xb\")\n",
        "\n",
        "# Print the final tableau\n",
        "for row in range(tableau.shape[0]):\n",
        "    print(f\"x{row + 1} \", end=\"\")\n",
        "    for col in range(tableau.shape[1]):\n",
        "        print(f\"{tableau[row, col]:.2f} \", end=\"\")\n",
        "    print()\n",
        "\n",
        "# Extract the results\n",
        "x1 = tableau[0, -1]\n",
        "x2 = tableau[1, -1]\n",
        "z = -tableau[-1, -1]\n",
        "\n",
        "print(\"Final results:\")\n",
        "print(f\"x1 = {x1:.2f}\")\n",
        "print(f\"x2 = {x2:.2f}\")\n",
        "print(f\"z = {z:.2f}\")\n"
      ],
      "metadata": {
        "colab": {
          "base_uri": "https://localhost:8080/"
        },
        "id": "5C4rNUkIW1Ur",
        "outputId": "06aa0ad8-4db5-4a2f-9041-5ece4647870d"
      },
      "execution_count": 40,
      "outputs": [
        {
          "output_type": "stream",
          "name": "stdout",
          "text": [
            "Iteration 0:\n",
            "Tableau:\n",
            "   x1  x2  x3  x4  xb\n",
            "x1 1.00 1.00 1.00 0.00 12.00 \n",
            "x2 2.00 1.00 0.00 1.00 16.00 \n",
            "x3 40.00 30.00 0.00 0.00 0.00 \n",
            "Iteration 1:\n",
            "Tableau:\n",
            "   x1  x2  x3  x4  xb\n",
            "x1 0.00 0.50 1.00 -0.50 4.00 \n",
            "x2 1.00 0.50 0.00 0.50 8.00 \n",
            "x3 0.00 10.00 0.00 -20.00 -320.00 \n",
            "Iteration 2:\n",
            "Tableau:\n",
            "   x1  x2  x3  x4  xb\n",
            "x1 0.00 1.00 2.00 -1.00 8.00 \n",
            "x2 1.00 0.00 -1.00 1.00 4.00 \n",
            "x3 0.00 0.00 -20.00 -10.00 -400.00 \n",
            "Final tableau:\n",
            "   x1  x2  x3  x4  xb\n",
            "x1 0.00 1.00 2.00 -1.00 8.00 \n",
            "x2 1.00 0.00 -1.00 1.00 4.00 \n",
            "x3 0.00 0.00 -20.00 -10.00 -400.00 \n",
            "Final results:\n",
            "x1 = 8.00\n",
            "x2 = 4.00\n",
            "z = 400.00\n"
          ]
        }
      ]
    }
  ]
}